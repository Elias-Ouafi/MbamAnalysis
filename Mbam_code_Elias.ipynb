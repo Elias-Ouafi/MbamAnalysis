{
 "cells": [
  {
   "cell_type": "markdown",
   "metadata": {},
   "source": [
    "<h1>Préparer les données<h1>"
   ]
  },
  {
   "cell_type": "code",
   "execution_count": 3,
   "metadata": {},
   "outputs": [],
   "source": [
    "#Importer les librairies nécessaires\n",
    "import numpy as np\n",
    "import pandas as pd\n",
    "import matplotlib as plt\n",
    "import seaborn as sns\n",
    "import statsmodels.api as sm\n",
    "from sklearn.preprocessing import LabelEncoder\n",
    "from sklearn.tree import DecisionTreeClassifier\n",
    "from sklearn.model_selection import train_test_split\n",
    "from sklearn import metrics\n",
    "import graphviz \n",
    "from six import StringIO  \n",
    "from IPython.display import Image  \n",
    "import pydotplus\n",
    "from sklearn import tree"
   ]
  },
  {
   "cell_type": "code",
   "execution_count": 4,
   "metadata": {},
   "outputs": [],
   "source": [
    "#Importer les données\n",
    "mbamFull = pd.read_csv(\"C:\\\\Users\\\\ouafi\\\\Desktop\\\\Cours HEC Montreal\\\\HEC Data Challenge\\\\mbam_complet.csv\", encoding='ISO-8859-1')\n",
    "mbamCut = pd.read_csv(\"C:\\\\Users\\\\ouafi\\\\Desktop\\\\Cours HEC Montreal\\\\HEC Data Challenge\\\\mbam_censure.csv\", encoding='ISO-8859-1')\n",
    "mbamConvert = pd.read_csv(\"C:\\\\Users\\\\ouafi\\\\Desktop\\\\Cours HEC Montreal\\\\HEC Data Challenge\\\\mbam_comportement_convertis.csv\", encoding='ISO-8859-1')"
   ]
  },
  {
   "cell_type": "markdown",
   "metadata": {},
   "source": [
    "<h1>Observer les données<h1>"
   ]
  },
  {
   "cell_type": "code",
   "execution_count": 44,
   "metadata": {},
   "outputs": [
    {
     "data": {
      "text/html": [
       "<div>\n",
       "<style scoped>\n",
       "    .dataframe tbody tr th:only-of-type {\n",
       "        vertical-align: middle;\n",
       "    }\n",
       "\n",
       "    .dataframe tbody tr th {\n",
       "        vertical-align: top;\n",
       "    }\n",
       "\n",
       "    .dataframe thead th {\n",
       "        text-align: right;\n",
       "    }\n",
       "</style>\n",
       "<table border=\"1\" class=\"dataframe\">\n",
       "  <thead>\n",
       "    <tr style=\"text-align: right;\">\n",
       "      <th></th>\n",
       "      <th>num_dossier_mbam_coded</th>\n",
       "      <th>campaign_id</th>\n",
       "      <th>campaign_name</th>\n",
       "      <th>campagnes</th>\n",
       "      <th>statut</th>\n",
       "      <th>inscription</th>\n",
       "      <th>langue</th>\n",
       "      <th>lettre</th>\n",
       "      <th>date_envoi</th>\n",
       "      <th>hardbounce</th>\n",
       "      <th>...</th>\n",
       "      <th>nbr_hardbounce</th>\n",
       "      <th>nbr_softbounce</th>\n",
       "      <th>nbr_delivered</th>\n",
       "      <th>nbr_open</th>\n",
       "      <th>nbr_clicked</th>\n",
       "      <th>nbr_converted2</th>\n",
       "      <th>nbr_complaint</th>\n",
       "      <th>nbr_unsubscribed</th>\n",
       "      <th>nbr_not_open</th>\n",
       "      <th>nbr_open_but_didnt_click</th>\n",
       "    </tr>\n",
       "  </thead>\n",
       "  <tbody>\n",
       "    <tr>\n",
       "      <th>0</th>\n",
       "      <td>0000fce4f46f0e6d5bf322cfe94606b5</td>\n",
       "      <td>570889</td>\n",
       "      <td>MEM_20200109_CampagneFêtesVISITEURS_Anglais_A</td>\n",
       "      <td>CampagneFêtes</td>\n",
       "      <td>VISITEURS</td>\n",
       "      <td>NaN</td>\n",
       "      <td>ENG</td>\n",
       "      <td>A</td>\n",
       "      <td>2020-01-09T11:00:12</td>\n",
       "      <td>0</td>\n",
       "      <td>...</td>\n",
       "      <td>0</td>\n",
       "      <td>0</td>\n",
       "      <td>1</td>\n",
       "      <td>1</td>\n",
       "      <td>0</td>\n",
       "      <td>0</td>\n",
       "      <td>0</td>\n",
       "      <td>0</td>\n",
       "      <td>0</td>\n",
       "      <td>1</td>\n",
       "    </tr>\n",
       "    <tr>\n",
       "      <th>1</th>\n",
       "      <td>0000fce4f46f0e6d5bf322cfe94606b5</td>\n",
       "      <td>571993</td>\n",
       "      <td>MEM_20200116_StValentinExpos_VISITEURS_ENG_C</td>\n",
       "      <td>StValentinExpos</td>\n",
       "      <td>VISITEURS</td>\n",
       "      <td>NaN</td>\n",
       "      <td>ENG</td>\n",
       "      <td>C</td>\n",
       "      <td>2020-01-16T13:01:33</td>\n",
       "      <td>0</td>\n",
       "      <td>...</td>\n",
       "      <td>0</td>\n",
       "      <td>0</td>\n",
       "      <td>1</td>\n",
       "      <td>0</td>\n",
       "      <td>0</td>\n",
       "      <td>0</td>\n",
       "      <td>0</td>\n",
       "      <td>0</td>\n",
       "      <td>1</td>\n",
       "      <td>0</td>\n",
       "    </tr>\n",
       "    <tr>\n",
       "      <th>2</th>\n",
       "      <td>0000fce4f46f0e6d5bf322cfe94606b5</td>\n",
       "      <td>573001</td>\n",
       "      <td>MEM_20200123_StValentinForfaits_VISITEURS_ENG_B</td>\n",
       "      <td>StValentinForfaits</td>\n",
       "      <td>VISITEURS</td>\n",
       "      <td>NaN</td>\n",
       "      <td>ENG</td>\n",
       "      <td>B</td>\n",
       "      <td>2020-01-23T13:31:49</td>\n",
       "      <td>0</td>\n",
       "      <td>...</td>\n",
       "      <td>0</td>\n",
       "      <td>0</td>\n",
       "      <td>1</td>\n",
       "      <td>0</td>\n",
       "      <td>0</td>\n",
       "      <td>0</td>\n",
       "      <td>0</td>\n",
       "      <td>0</td>\n",
       "      <td>1</td>\n",
       "      <td>0</td>\n",
       "    </tr>\n",
       "    <tr>\n",
       "      <th>3</th>\n",
       "      <td>0000fce4f46f0e6d5bf322cfe94606b5</td>\n",
       "      <td>574545</td>\n",
       "      <td>MEM_20200130_StValentinExpos_VISITEURS_ENG_C</td>\n",
       "      <td>StValentinExpos</td>\n",
       "      <td>VISITEURS</td>\n",
       "      <td>NaN</td>\n",
       "      <td>ENG</td>\n",
       "      <td>C</td>\n",
       "      <td>2020-01-30T13:00:56</td>\n",
       "      <td>0</td>\n",
       "      <td>...</td>\n",
       "      <td>0</td>\n",
       "      <td>0</td>\n",
       "      <td>1</td>\n",
       "      <td>1</td>\n",
       "      <td>0</td>\n",
       "      <td>0</td>\n",
       "      <td>0</td>\n",
       "      <td>0</td>\n",
       "      <td>0</td>\n",
       "      <td>1</td>\n",
       "    </tr>\n",
       "    <tr>\n",
       "      <th>4</th>\n",
       "      <td>0000fce4f46f0e6d5bf322cfe94606b5</td>\n",
       "      <td>576342</td>\n",
       "      <td>MEM_20200206_StValentinForfaits_VISITEURS_ENG_C</td>\n",
       "      <td>StValentinForfaits</td>\n",
       "      <td>VISITEURS</td>\n",
       "      <td>NaN</td>\n",
       "      <td>ENG</td>\n",
       "      <td>C</td>\n",
       "      <td>2020-02-06T13:01:54</td>\n",
       "      <td>0</td>\n",
       "      <td>...</td>\n",
       "      <td>0</td>\n",
       "      <td>0</td>\n",
       "      <td>1</td>\n",
       "      <td>0</td>\n",
       "      <td>0</td>\n",
       "      <td>0</td>\n",
       "      <td>0</td>\n",
       "      <td>0</td>\n",
       "      <td>1</td>\n",
       "      <td>0</td>\n",
       "    </tr>\n",
       "  </tbody>\n",
       "</table>\n",
       "<p>5 rows × 41 columns</p>\n",
       "</div>"
      ],
      "text/plain": [
       "             num_dossier_mbam_coded  campaign_id  \\\n",
       "0  0000fce4f46f0e6d5bf322cfe94606b5       570889   \n",
       "1  0000fce4f46f0e6d5bf322cfe94606b5       571993   \n",
       "2  0000fce4f46f0e6d5bf322cfe94606b5       573001   \n",
       "3  0000fce4f46f0e6d5bf322cfe94606b5       574545   \n",
       "4  0000fce4f46f0e6d5bf322cfe94606b5       576342   \n",
       "\n",
       "                                     campaign_name           campagnes  \\\n",
       "0    MEM_20200109_CampagneFêtesVISITEURS_Anglais_A       CampagneFêtes   \n",
       "1     MEM_20200116_StValentinExpos_VISITEURS_ENG_C     StValentinExpos   \n",
       "2  MEM_20200123_StValentinForfaits_VISITEURS_ENG_B  StValentinForfaits   \n",
       "3     MEM_20200130_StValentinExpos_VISITEURS_ENG_C     StValentinExpos   \n",
       "4  MEM_20200206_StValentinForfaits_VISITEURS_ENG_C  StValentinForfaits   \n",
       "\n",
       "      statut  inscription langue lettre           date_envoi  hardbounce  ...  \\\n",
       "0  VISITEURS          NaN    ENG      A  2020-01-09T11:00:12           0  ...   \n",
       "1  VISITEURS          NaN    ENG      C  2020-01-16T13:01:33           0  ...   \n",
       "2  VISITEURS          NaN    ENG      B  2020-01-23T13:31:49           0  ...   \n",
       "3  VISITEURS          NaN    ENG      C  2020-01-30T13:00:56           0  ...   \n",
       "4  VISITEURS          NaN    ENG      C  2020-02-06T13:01:54           0  ...   \n",
       "\n",
       "   nbr_hardbounce  nbr_softbounce  nbr_delivered  nbr_open  nbr_clicked  \\\n",
       "0               0               0              1         1            0   \n",
       "1               0               0              1         0            0   \n",
       "2               0               0              1         0            0   \n",
       "3               0               0              1         1            0   \n",
       "4               0               0              1         0            0   \n",
       "\n",
       "   nbr_converted2  nbr_complaint  nbr_unsubscribed  nbr_not_open  \\\n",
       "0               0              0                 0             0   \n",
       "1               0              0                 0             1   \n",
       "2               0              0                 0             1   \n",
       "3               0              0                 0             0   \n",
       "4               0              0                 0             1   \n",
       "\n",
       "  nbr_open_but_didnt_click  \n",
       "0                        1  \n",
       "1                        0  \n",
       "2                        0  \n",
       "3                        1  \n",
       "4                        0  \n",
       "\n",
       "[5 rows x 41 columns]"
      ]
     },
     "execution_count": 44,
     "metadata": {},
     "output_type": "execute_result"
    }
   ],
   "source": [
    "#Oberver les données de Full\n",
    "mbamFull.head(5)"
   ]
  },
  {
   "cell_type": "code",
   "execution_count": 8,
   "metadata": {},
   "outputs": [
    {
     "data": {
      "text/html": [
       "<div>\n",
       "<style scoped>\n",
       "    .dataframe tbody tr th:only-of-type {\n",
       "        vertical-align: middle;\n",
       "    }\n",
       "\n",
       "    .dataframe tbody tr th {\n",
       "        vertical-align: top;\n",
       "    }\n",
       "\n",
       "    .dataframe thead th {\n",
       "        text-align: right;\n",
       "    }\n",
       "</style>\n",
       "<table border=\"1\" class=\"dataframe\">\n",
       "  <thead>\n",
       "    <tr style=\"text-align: right;\">\n",
       "      <th></th>\n",
       "      <th>num_dossier_mbam_coded</th>\n",
       "      <th>campaign_id</th>\n",
       "      <th>campaign_name</th>\n",
       "      <th>campagnes</th>\n",
       "      <th>statut</th>\n",
       "      <th>inscription</th>\n",
       "      <th>langue</th>\n",
       "      <th>lettre</th>\n",
       "      <th>date_envoi</th>\n",
       "      <th>hardbounce</th>\n",
       "      <th>...</th>\n",
       "      <th>nbr_hardbounce</th>\n",
       "      <th>nbr_softbounce</th>\n",
       "      <th>nbr_delivered</th>\n",
       "      <th>nbr_open</th>\n",
       "      <th>nbr_clicked</th>\n",
       "      <th>nbr_converted2</th>\n",
       "      <th>nbr_complaint</th>\n",
       "      <th>nbr_unsubscribed</th>\n",
       "      <th>nbr_not_open</th>\n",
       "      <th>nbr_open_but_didnt_click</th>\n",
       "    </tr>\n",
       "  </thead>\n",
       "  <tbody>\n",
       "    <tr>\n",
       "      <th>0</th>\n",
       "      <td>0000fce4f46f0e6d5bf322cfe94606b5</td>\n",
       "      <td>570889</td>\n",
       "      <td>MEM_20200109_CampagneFêtesVISITEURS_Anglais_A</td>\n",
       "      <td>CampagneFêtes</td>\n",
       "      <td>VISITEURS</td>\n",
       "      <td>NaN</td>\n",
       "      <td>ENG</td>\n",
       "      <td>A</td>\n",
       "      <td>2020-01-09T11:00:12</td>\n",
       "      <td>0</td>\n",
       "      <td>...</td>\n",
       "      <td>0</td>\n",
       "      <td>0</td>\n",
       "      <td>1</td>\n",
       "      <td>1</td>\n",
       "      <td>0</td>\n",
       "      <td>0</td>\n",
       "      <td>0</td>\n",
       "      <td>0</td>\n",
       "      <td>0</td>\n",
       "      <td>1</td>\n",
       "    </tr>\n",
       "    <tr>\n",
       "      <th>1</th>\n",
       "      <td>0000fce4f46f0e6d5bf322cfe94606b5</td>\n",
       "      <td>571993</td>\n",
       "      <td>MEM_20200116_StValentinExpos_VISITEURS_ENG_C</td>\n",
       "      <td>StValentinExpos</td>\n",
       "      <td>VISITEURS</td>\n",
       "      <td>NaN</td>\n",
       "      <td>ENG</td>\n",
       "      <td>C</td>\n",
       "      <td>2020-01-16T13:01:33</td>\n",
       "      <td>0</td>\n",
       "      <td>...</td>\n",
       "      <td>0</td>\n",
       "      <td>0</td>\n",
       "      <td>1</td>\n",
       "      <td>0</td>\n",
       "      <td>0</td>\n",
       "      <td>0</td>\n",
       "      <td>0</td>\n",
       "      <td>0</td>\n",
       "      <td>1</td>\n",
       "      <td>0</td>\n",
       "    </tr>\n",
       "    <tr>\n",
       "      <th>2</th>\n",
       "      <td>0000fce4f46f0e6d5bf322cfe94606b5</td>\n",
       "      <td>573001</td>\n",
       "      <td>MEM_20200123_StValentinForfaits_VISITEURS_ENG_B</td>\n",
       "      <td>StValentinForfaits</td>\n",
       "      <td>VISITEURS</td>\n",
       "      <td>NaN</td>\n",
       "      <td>ENG</td>\n",
       "      <td>B</td>\n",
       "      <td>2020-01-23T13:31:49</td>\n",
       "      <td>0</td>\n",
       "      <td>...</td>\n",
       "      <td>0</td>\n",
       "      <td>0</td>\n",
       "      <td>1</td>\n",
       "      <td>0</td>\n",
       "      <td>0</td>\n",
       "      <td>0</td>\n",
       "      <td>0</td>\n",
       "      <td>0</td>\n",
       "      <td>1</td>\n",
       "      <td>0</td>\n",
       "    </tr>\n",
       "    <tr>\n",
       "      <th>3</th>\n",
       "      <td>0000fce4f46f0e6d5bf322cfe94606b5</td>\n",
       "      <td>574545</td>\n",
       "      <td>MEM_20200130_StValentinExpos_VISITEURS_ENG_C</td>\n",
       "      <td>StValentinExpos</td>\n",
       "      <td>VISITEURS</td>\n",
       "      <td>NaN</td>\n",
       "      <td>ENG</td>\n",
       "      <td>C</td>\n",
       "      <td>2020-01-30T13:00:56</td>\n",
       "      <td>0</td>\n",
       "      <td>...</td>\n",
       "      <td>0</td>\n",
       "      <td>0</td>\n",
       "      <td>1</td>\n",
       "      <td>1</td>\n",
       "      <td>0</td>\n",
       "      <td>0</td>\n",
       "      <td>0</td>\n",
       "      <td>0</td>\n",
       "      <td>0</td>\n",
       "      <td>1</td>\n",
       "    </tr>\n",
       "    <tr>\n",
       "      <th>4</th>\n",
       "      <td>0000fce4f46f0e6d5bf322cfe94606b5</td>\n",
       "      <td>576342</td>\n",
       "      <td>MEM_20200206_StValentinForfaits_VISITEURS_ENG_C</td>\n",
       "      <td>StValentinForfaits</td>\n",
       "      <td>VISITEURS</td>\n",
       "      <td>NaN</td>\n",
       "      <td>ENG</td>\n",
       "      <td>C</td>\n",
       "      <td>2020-02-06T13:01:54</td>\n",
       "      <td>0</td>\n",
       "      <td>...</td>\n",
       "      <td>0</td>\n",
       "      <td>0</td>\n",
       "      <td>1</td>\n",
       "      <td>0</td>\n",
       "      <td>0</td>\n",
       "      <td>0</td>\n",
       "      <td>0</td>\n",
       "      <td>0</td>\n",
       "      <td>1</td>\n",
       "      <td>0</td>\n",
       "    </tr>\n",
       "  </tbody>\n",
       "</table>\n",
       "<p>5 rows × 41 columns</p>\n",
       "</div>"
      ],
      "text/plain": [
       "             num_dossier_mbam_coded  campaign_id  \\\n",
       "0  0000fce4f46f0e6d5bf322cfe94606b5       570889   \n",
       "1  0000fce4f46f0e6d5bf322cfe94606b5       571993   \n",
       "2  0000fce4f46f0e6d5bf322cfe94606b5       573001   \n",
       "3  0000fce4f46f0e6d5bf322cfe94606b5       574545   \n",
       "4  0000fce4f46f0e6d5bf322cfe94606b5       576342   \n",
       "\n",
       "                                     campaign_name           campagnes  \\\n",
       "0    MEM_20200109_CampagneFêtesVISITEURS_Anglais_A       CampagneFêtes   \n",
       "1     MEM_20200116_StValentinExpos_VISITEURS_ENG_C     StValentinExpos   \n",
       "2  MEM_20200123_StValentinForfaits_VISITEURS_ENG_B  StValentinForfaits   \n",
       "3     MEM_20200130_StValentinExpos_VISITEURS_ENG_C     StValentinExpos   \n",
       "4  MEM_20200206_StValentinForfaits_VISITEURS_ENG_C  StValentinForfaits   \n",
       "\n",
       "      statut  inscription langue lettre           date_envoi  hardbounce  ...  \\\n",
       "0  VISITEURS          NaN    ENG      A  2020-01-09T11:00:12           0  ...   \n",
       "1  VISITEURS          NaN    ENG      C  2020-01-16T13:01:33           0  ...   \n",
       "2  VISITEURS          NaN    ENG      B  2020-01-23T13:31:49           0  ...   \n",
       "3  VISITEURS          NaN    ENG      C  2020-01-30T13:00:56           0  ...   \n",
       "4  VISITEURS          NaN    ENG      C  2020-02-06T13:01:54           0  ...   \n",
       "\n",
       "   nbr_hardbounce  nbr_softbounce  nbr_delivered  nbr_open  nbr_clicked  \\\n",
       "0               0               0              1         1            0   \n",
       "1               0               0              1         0            0   \n",
       "2               0               0              1         0            0   \n",
       "3               0               0              1         1            0   \n",
       "4               0               0              1         0            0   \n",
       "\n",
       "   nbr_converted2  nbr_complaint  nbr_unsubscribed  nbr_not_open  \\\n",
       "0               0              0                 0             0   \n",
       "1               0              0                 0             1   \n",
       "2               0              0                 0             1   \n",
       "3               0              0                 0             0   \n",
       "4               0              0                 0             1   \n",
       "\n",
       "  nbr_open_but_didnt_click  \n",
       "0                        1  \n",
       "1                        0  \n",
       "2                        0  \n",
       "3                        1  \n",
       "4                        0  \n",
       "\n",
       "[5 rows x 41 columns]"
      ]
     },
     "execution_count": 8,
     "metadata": {},
     "output_type": "execute_result"
    }
   ],
   "source": [
    "#Oberver les données de Censuré\n",
    "mbamCut.head(5)"
   ]
  },
  {
   "cell_type": "code",
   "execution_count": 17,
   "metadata": {},
   "outputs": [
    {
     "data": {
      "text/html": [
       "<div>\n",
       "<style scoped>\n",
       "    .dataframe tbody tr th:only-of-type {\n",
       "        vertical-align: middle;\n",
       "    }\n",
       "\n",
       "    .dataframe tbody tr th {\n",
       "        vertical-align: top;\n",
       "    }\n",
       "\n",
       "    .dataframe thead th {\n",
       "        text-align: right;\n",
       "    }\n",
       "</style>\n",
       "<table border=\"1\" class=\"dataframe\">\n",
       "  <thead>\n",
       "    <tr style=\"text-align: right;\">\n",
       "      <th></th>\n",
       "      <th>num_dossier_mbam_coded</th>\n",
       "      <th>campaign_id</th>\n",
       "      <th>campaign_name</th>\n",
       "      <th>campagnes</th>\n",
       "      <th>statut</th>\n",
       "      <th>inscription</th>\n",
       "      <th>langue</th>\n",
       "      <th>lettre</th>\n",
       "      <th>date_envoi</th>\n",
       "      <th>hardbounce</th>\n",
       "      <th>...</th>\n",
       "      <th>nbr_hardbounce</th>\n",
       "      <th>nbr_softbounce</th>\n",
       "      <th>nbr_delivered</th>\n",
       "      <th>nbr_open</th>\n",
       "      <th>nbr_clicked</th>\n",
       "      <th>nbr_converted2</th>\n",
       "      <th>nbr_complaint</th>\n",
       "      <th>nbr_unsubscribed</th>\n",
       "      <th>nbr_not_open</th>\n",
       "      <th>nbr_open_but_didnt_click</th>\n",
       "    </tr>\n",
       "  </thead>\n",
       "  <tbody>\n",
       "    <tr>\n",
       "      <th>0</th>\n",
       "      <td>0013205fb4a480640c3d556e2aa2347e</td>\n",
       "      <td>570871</td>\n",
       "      <td>MEM_20200109_CampagneFêtesACTIFS_Français_B</td>\n",
       "      <td>CampagneFêtes</td>\n",
       "      <td>ACTIFS</td>\n",
       "      <td>NaN</td>\n",
       "      <td>FR</td>\n",
       "      <td>B</td>\n",
       "      <td>2020-01-09T13:03:24</td>\n",
       "      <td>0</td>\n",
       "      <td>...</td>\n",
       "      <td>0</td>\n",
       "      <td>0</td>\n",
       "      <td>1</td>\n",
       "      <td>1</td>\n",
       "      <td>0</td>\n",
       "      <td>0</td>\n",
       "      <td>0</td>\n",
       "      <td>0</td>\n",
       "      <td>0</td>\n",
       "      <td>1</td>\n",
       "    </tr>\n",
       "    <tr>\n",
       "      <th>1</th>\n",
       "      <td>0013205fb4a480640c3d556e2aa2347e</td>\n",
       "      <td>571966</td>\n",
       "      <td>MEM_20200116_StValentinExpos_ACTIFS_FR_B</td>\n",
       "      <td>StValentinExpos</td>\n",
       "      <td>ACTIFS</td>\n",
       "      <td>NaN</td>\n",
       "      <td>FR</td>\n",
       "      <td>B</td>\n",
       "      <td>2020-01-16T13:03:55</td>\n",
       "      <td>0</td>\n",
       "      <td>...</td>\n",
       "      <td>0</td>\n",
       "      <td>0</td>\n",
       "      <td>1</td>\n",
       "      <td>1</td>\n",
       "      <td>0</td>\n",
       "      <td>0</td>\n",
       "      <td>0</td>\n",
       "      <td>0</td>\n",
       "      <td>0</td>\n",
       "      <td>1</td>\n",
       "    </tr>\n",
       "    <tr>\n",
       "      <th>2</th>\n",
       "      <td>0013205fb4a480640c3d556e2aa2347e</td>\n",
       "      <td>576313</td>\n",
       "      <td>MEM_20200206_StValentinForfaits_ACTIFS_FR_C</td>\n",
       "      <td>StValentinForfaits</td>\n",
       "      <td>ACTIFS</td>\n",
       "      <td>NaN</td>\n",
       "      <td>FR</td>\n",
       "      <td>C</td>\n",
       "      <td>2020-02-06T13:04:23</td>\n",
       "      <td>0</td>\n",
       "      <td>...</td>\n",
       "      <td>0</td>\n",
       "      <td>0</td>\n",
       "      <td>1</td>\n",
       "      <td>1</td>\n",
       "      <td>0</td>\n",
       "      <td>1</td>\n",
       "      <td>0</td>\n",
       "      <td>0</td>\n",
       "      <td>0</td>\n",
       "      <td>1</td>\n",
       "    </tr>\n",
       "    <tr>\n",
       "      <th>3</th>\n",
       "      <td>004d3bcaad3605acb95fb0c3b36ca6db</td>\n",
       "      <td>570870</td>\n",
       "      <td>MEM_20200109_CampagneFêtesACTIFS_Français_A</td>\n",
       "      <td>CampagneFêtes</td>\n",
       "      <td>ACTIFS</td>\n",
       "      <td>NaN</td>\n",
       "      <td>FR</td>\n",
       "      <td>A</td>\n",
       "      <td>2020-01-09T11:00:17</td>\n",
       "      <td>0</td>\n",
       "      <td>...</td>\n",
       "      <td>0</td>\n",
       "      <td>0</td>\n",
       "      <td>1</td>\n",
       "      <td>1</td>\n",
       "      <td>0</td>\n",
       "      <td>0</td>\n",
       "      <td>0</td>\n",
       "      <td>0</td>\n",
       "      <td>0</td>\n",
       "      <td>1</td>\n",
       "    </tr>\n",
       "    <tr>\n",
       "      <th>4</th>\n",
       "      <td>004d3bcaad3605acb95fb0c3b36ca6db</td>\n",
       "      <td>571966</td>\n",
       "      <td>MEM_20200116_StValentinExpos_ACTIFS_FR_B</td>\n",
       "      <td>StValentinExpos</td>\n",
       "      <td>ACTIFS</td>\n",
       "      <td>NaN</td>\n",
       "      <td>FR</td>\n",
       "      <td>B</td>\n",
       "      <td>2020-01-16T13:03:41</td>\n",
       "      <td>0</td>\n",
       "      <td>...</td>\n",
       "      <td>0</td>\n",
       "      <td>0</td>\n",
       "      <td>1</td>\n",
       "      <td>1</td>\n",
       "      <td>0</td>\n",
       "      <td>0</td>\n",
       "      <td>0</td>\n",
       "      <td>0</td>\n",
       "      <td>0</td>\n",
       "      <td>1</td>\n",
       "    </tr>\n",
       "  </tbody>\n",
       "</table>\n",
       "<p>5 rows × 41 columns</p>\n",
       "</div>"
      ],
      "text/plain": [
       "             num_dossier_mbam_coded  campaign_id  \\\n",
       "0  0013205fb4a480640c3d556e2aa2347e       570871   \n",
       "1  0013205fb4a480640c3d556e2aa2347e       571966   \n",
       "2  0013205fb4a480640c3d556e2aa2347e       576313   \n",
       "3  004d3bcaad3605acb95fb0c3b36ca6db       570870   \n",
       "4  004d3bcaad3605acb95fb0c3b36ca6db       571966   \n",
       "\n",
       "                                 campaign_name           campagnes  statut  \\\n",
       "0  MEM_20200109_CampagneFêtesACTIFS_Français_B       CampagneFêtes  ACTIFS   \n",
       "1     MEM_20200116_StValentinExpos_ACTIFS_FR_B     StValentinExpos  ACTIFS   \n",
       "2  MEM_20200206_StValentinForfaits_ACTIFS_FR_C  StValentinForfaits  ACTIFS   \n",
       "3  MEM_20200109_CampagneFêtesACTIFS_Français_A       CampagneFêtes  ACTIFS   \n",
       "4     MEM_20200116_StValentinExpos_ACTIFS_FR_B     StValentinExpos  ACTIFS   \n",
       "\n",
       "   inscription langue lettre           date_envoi  hardbounce  ...  \\\n",
       "0          NaN     FR      B  2020-01-09T13:03:24           0  ...   \n",
       "1          NaN     FR      B  2020-01-16T13:03:55           0  ...   \n",
       "2          NaN     FR      C  2020-02-06T13:04:23           0  ...   \n",
       "3          NaN     FR      A  2020-01-09T11:00:17           0  ...   \n",
       "4          NaN     FR      B  2020-01-16T13:03:41           0  ...   \n",
       "\n",
       "   nbr_hardbounce  nbr_softbounce  nbr_delivered  nbr_open  nbr_clicked  \\\n",
       "0               0               0              1         1            0   \n",
       "1               0               0              1         1            0   \n",
       "2               0               0              1         1            0   \n",
       "3               0               0              1         1            0   \n",
       "4               0               0              1         1            0   \n",
       "\n",
       "   nbr_converted2  nbr_complaint  nbr_unsubscribed  nbr_not_open  \\\n",
       "0               0              0                 0             0   \n",
       "1               0              0                 0             0   \n",
       "2               1              0                 0             0   \n",
       "3               0              0                 0             0   \n",
       "4               0              0                 0             0   \n",
       "\n",
       "  nbr_open_but_didnt_click  \n",
       "0                        1  \n",
       "1                        1  \n",
       "2                        1  \n",
       "3                        1  \n",
       "4                        1  \n",
       "\n",
       "[5 rows x 41 columns]"
      ]
     },
     "execution_count": 17,
     "metadata": {},
     "output_type": "execute_result"
    }
   ],
   "source": [
    "#Oberver les données de Converti\n",
    "mbamConvert.head(5)"
   ]
  },
  {
   "cell_type": "code",
   "execution_count": 9,
   "metadata": {},
   "outputs": [
    {
     "name": "stdout",
     "output_type": "stream",
     "text": [
      "<class 'pandas.core.frame.DataFrame'>\n",
      "RangeIndex: 2836381 entries, 0 to 2836380\n",
      "Data columns (total 41 columns):\n",
      " #   Column                    Dtype  \n",
      "---  ------                    -----  \n",
      " 0   num_dossier_mbam_coded    object \n",
      " 1   campaign_id               int64  \n",
      " 2   campaign_name             object \n",
      " 3   campagnes                 object \n",
      " 4   statut                    object \n",
      " 5   inscription               float64\n",
      " 6   langue                    object \n",
      " 7   lettre                    object \n",
      " 8   date_envoi                object \n",
      " 9   hardbounce                int64  \n",
      " 10  softbounce                int64  \n",
      " 11  delivered                 int64  \n",
      " 12  open                      int64  \n",
      " 13  clicked                   int64  \n",
      " 14  converted                 int64  \n",
      " 15  complaint                 int64  \n",
      " 16  unsubscribed              int64  \n",
      " 17  not_open                  int64  \n",
      " 18  open_but_didnt_click      int64  \n",
      " 19  first_transaction         object \n",
      " 20  date_envoi2               object \n",
      " 21  code_promo                object \n",
      " 22  point_de_vente            object \n",
      " 23  date_transaction          object \n",
      " 24  date_transaction2         object \n",
      " 25  converted2                int64  \n",
      " 26  type_campaign             object \n",
      " 27  Cadeau                    int64  \n",
      " 28  Prolongation              int64  \n",
      " 29  Rabais                    int64  \n",
      " 30  nbr_envoi                 int64  \n",
      " 31  nbr_hardbounce            int64  \n",
      " 32  nbr_softbounce            int64  \n",
      " 33  nbr_delivered             int64  \n",
      " 34  nbr_open                  int64  \n",
      " 35  nbr_clicked               int64  \n",
      " 36  nbr_converted2            int64  \n",
      " 37  nbr_complaint             int64  \n",
      " 38  nbr_unsubscribed          int64  \n",
      " 39  nbr_not_open              int64  \n",
      " 40  nbr_open_but_didnt_click  int64  \n",
      "dtypes: float64(1), int64(26), object(14)\n",
      "memory usage: 887.2+ MB\n"
     ]
    }
   ],
   "source": [
    "#Noms de colonnes et type d'informations dans Full\n",
    "mbamFull.info()"
   ]
  },
  {
   "cell_type": "markdown",
   "metadata": {},
   "source": [
    "<h1>Création du Funnel :<h1>"
   ]
  },
  {
   "cell_type": "code",
   "execution_count": 63,
   "metadata": {
    "scrolled": true
   },
   "outputs": [
    {
     "name": "stdout",
     "output_type": "stream",
     "text": [
      "0    1909258\n",
      "1     927123\n",
      "Name: open, dtype: int64\n"
     ]
    }
   ],
   "source": [
    "#Préparations funnel step 1\n",
    "fOpen=mbamFull['open'].value_counts()\n",
    "print(fOpen)"
   ]
  },
  {
   "cell_type": "code",
   "execution_count": 64,
   "metadata": {},
   "outputs": [
    {
     "name": "stdout",
     "output_type": "stream",
     "text": [
      "Nombre de mails ouverts : 927123\n",
      "Le pourcentage de mails ouverts est : 32.68682874409327\n"
     ]
    }
   ],
   "source": [
    "#funnel step 1\n",
    "openCount= mbamFull['open'].sum()\n",
    "totalMail=openCount + 1909258\n",
    "percentCount = openCount / totalMail * 100\n",
    "print('Nombre de mails ouverts : '+str(openCount))\n",
    "print('Le pourcentage de mails ouverts est : ' + str(percentCount))"
   ]
  },
  {
   "cell_type": "code",
   "execution_count": 66,
   "metadata": {},
   "outputs": [
    {
     "name": "stdout",
     "output_type": "stream",
     "text": [
      "0    2776069\n",
      "1      60312\n",
      "Name: clicked, dtype: int64\n"
     ]
    }
   ],
   "source": [
    "#Préparations funnel step 2\n",
    "fClick=mbamFull['clicked'].value_counts()\n",
    "print(fClick)"
   ]
  },
  {
   "cell_type": "code",
   "execution_count": 67,
   "metadata": {},
   "outputs": [
    {
     "name": "stdout",
     "output_type": "stream",
     "text": [
      "Nombre de mails cliqués : 60312\n",
      "Le pourcentage de mails cliqués est : 6.505285706427302\n"
     ]
    }
   ],
   "source": [
    "#funnel step 2\n",
    "clickCount=mbamFull['clicked'].sum()\n",
    "percentClick=clickCount/openCount *100\n",
    "print('Nombre de mails cliqués : '+str(clickCount))\n",
    "print('Le pourcentage de mails cliqués est : ' + str(percentClick))"
   ]
  },
  {
   "cell_type": "code",
   "execution_count": 5,
   "metadata": {},
   "outputs": [
    {
     "name": "stdout",
     "output_type": "stream",
     "text": [
      "0    2830953\n",
      "1       5428\n",
      "Name: converted2, dtype: int64\n"
     ]
    }
   ],
   "source": [
    "#Préparation funnel step 3\n",
    "fConvert = mbamFull['converted2'].value_counts()\n",
    "print(fConvert)"
   ]
  },
  {
   "cell_type": "code",
   "execution_count": 72,
   "metadata": {},
   "outputs": [
    {
     "name": "stdout",
     "output_type": "stream",
     "text": [
      "Nombre de personnes converties : 5428\n",
      "Le pourcentage de personnes converties est : 8.999867356413317\n"
     ]
    }
   ],
   "source": [
    "#funnel step 3\n",
    "convertCount=mbamFull['converted2'].sum()\n",
    "percentConvert=convertCount/clickCount *100\n",
    "print('Nombre de personnes converties : '+str(convertCount))\n",
    "print('Le pourcentage de personnes converties est : ' + str(percentConvert))"
   ]
  },
  {
   "cell_type": "markdown",
   "metadata": {},
   "source": [
    "<h1>Funnel en fonction des langues<h1>"
   ]
  },
  {
   "cell_type": "code",
   "execution_count": 7,
   "metadata": {},
   "outputs": [
    {
     "data": {
      "text/plain": [
       "langue  open\n",
       "ENG     0        541616\n",
       "        1        201174\n",
       "FR      0       1359356\n",
       "        1        720746\n",
       "Name: open, dtype: int64"
      ]
     },
     "execution_count": 7,
     "metadata": {},
     "output_type": "execute_result"
    }
   ],
   "source": [
    "#Préparations funnel langue step 1\n",
    "mbamFull.groupby('langue')['open'].value_counts() "
   ]
  },
  {
   "cell_type": "code",
   "execution_count": 11,
   "metadata": {},
   "outputs": [
    {
     "name": "stdout",
     "output_type": "stream",
     "text": [
      "Le pourcentage d'ouverture des mails anglais est : 27.083563322069494\n",
      "Le pourcentage d'ouverture des mails français est : 34.64955083933384\n"
     ]
    }
   ],
   "source": [
    "#funnel langue step 1\n",
    "engOpenCount=(201174/(541616+201174))*100\n",
    "frOpenCount=(720746/(720746+1359356))*100\n",
    "print(\"Le pourcentage d'ouverture des mails anglais est : \" + str(engOpenCount))\n",
    "print(\"Le pourcentage d'ouverture des mails français est : \" + str(frOpenCount))"
   ]
  },
  {
   "cell_type": "code",
   "execution_count": 12,
   "metadata": {},
   "outputs": [
    {
     "data": {
      "text/plain": [
       "langue  clicked\n",
       "ENG     0           729962\n",
       "        1            12828\n",
       "FR      0          2032963\n",
       "        1            47139\n",
       "Name: clicked, dtype: int64"
      ]
     },
     "execution_count": 12,
     "metadata": {},
     "output_type": "execute_result"
    }
   ],
   "source": [
    "#Préparations funnel langue step 2\n",
    "mbamFull.groupby('langue')['clicked'].value_counts() "
   ]
  },
  {
   "cell_type": "code",
   "execution_count": 13,
   "metadata": {},
   "outputs": [
    {
     "name": "stdout",
     "output_type": "stream",
     "text": [
      "Le pourcentage de cliques sur des mails anglais ouverts est : 6.376569536818873\n",
      "Le pourcentage de cliques sur des mails français ouverts est : 6.540306848737281\n"
     ]
    }
   ],
   "source": [
    "#funnel langue step 2\n",
    "engClickCount=(12828/201174)*100\n",
    "frClickCount=(47139/720746)*100\n",
    "print(\"Le pourcentage de cliques sur des mails anglais ouverts est : \" + str(engClickCount))\n",
    "print(\"Le pourcentage de cliques sur des mails français ouverts est : \" + str(frClickCount))"
   ]
  },
  {
   "cell_type": "code",
   "execution_count": 15,
   "metadata": {},
   "outputs": [
    {
     "data": {
      "text/plain": [
       "langue  converted2\n",
       "ENG     0              741732\n",
       "        1                1058\n",
       "FR      0             2075740\n",
       "        1                4362\n",
       "Name: converted2, dtype: int64"
      ]
     },
     "execution_count": 15,
     "metadata": {},
     "output_type": "execute_result"
    }
   ],
   "source": [
    "#Préparations funnel langue step 3\n",
    "mbamFull.groupby('langue')['converted2'].value_counts()"
   ]
  },
  {
   "cell_type": "code",
   "execution_count": 16,
   "metadata": {},
   "outputs": [
    {
     "name": "stdout",
     "output_type": "stream",
     "text": [
      "Le pourcentage de personnes converties sur des mails anglais cliqués est : 8.247583411287808\n",
      "Le pourcentage de personnes converties sur des mails français cliqués est : 9.2534843759944\n"
     ]
    }
   ],
   "source": [
    "#funnel langue step 3\n",
    "engConvertCount=(1058/12828)*100\n",
    "frConvertCount=(4362/47139)*100\n",
    "print(\"Le pourcentage de personnes converties sur des mails anglais cliqués est : \" + str(engConvertCount))\n",
    "print(\"Le pourcentage de personnes converties sur des mails français cliqués est : \" + str(frConvertCount))"
   ]
  },
  {
   "cell_type": "markdown",
   "metadata": {},
   "source": [
    "<h2>Funnel en fonction des langues et des types de campagnes<h2>"
   ]
  },
  {
   "cell_type": "code",
   "execution_count": 24,
   "metadata": {},
   "outputs": [
    {
     "data": {
      "text/plain": [
       "langue  type_campaign  open\n",
       "ENG     Cadeau         0        23268\n",
       "                       1         8577\n",
       "        Prolongation   0       142798\n",
       "                       1        76777\n",
       "        Rabais         0       375550\n",
       "                       1       115820\n",
       "FR      Cadeau         0        59460\n",
       "                       1        33383\n",
       "        Prolongation   0       390883\n",
       "                       1       294314\n",
       "        Rabais         0       909013\n",
       "                       1       393049\n",
       "Name: open, dtype: int64"
      ]
     },
     "execution_count": 24,
     "metadata": {},
     "output_type": "execute_result"
    }
   ],
   "source": [
    "#Préparations funnel langue/type step 1\n",
    "mbamFull.groupby(['langue', 'type_campaign'])['open'].value_counts() "
   ]
  },
  {
   "cell_type": "code",
   "execution_count": 28,
   "metadata": {},
   "outputs": [
    {
     "name": "stdout",
     "output_type": "stream",
     "text": [
      "Les pourcentages d'ouverture des mails anglais sont : 26.93 pour les cadeaux, 34.97 pour les prolongations et 23.57 pour les rabais.\n",
      "Les pourcentages d'ouverture des mails français sont : 35.96 pour les cadeaux, 42.95 pour les prolongations et 30.19 pour les rabais.\n"
     ]
    }
   ],
   "source": [
    "#funnel langue/type campagne step 1\n",
    "engGiftOpenCount=(8577/(8577+23268))*100\n",
    "engProloOpenCount=(76777/(76777+142798))*100\n",
    "engSaleOpenCount=(115820/(115820+375550))*100\n",
    "frGiftOpenCount=(33383/(33383+59460))*100\n",
    "frProloOpenCount=(294314/(294314+390883))*100\n",
    "frSaleOpenCount=(393049/(393049+909013))*100\n",
    "print(\"Les pourcentages d'ouverture des mails anglais sont : \" + str(round(engGiftOpenCount, 2))+ \" pour les cadeaux, \"+ str(round(engProloOpenCount, 2))+ \" pour les prolongations et \" + str(round(engSaleOpenCount, 2)) + \" pour les rabais.\")\n",
    "print(\"Les pourcentages d'ouverture des mails français sont : \" + str(round(frGiftOpenCount, 2))+ \" pour les cadeaux, \"+ str(round(frProloOpenCount, 2))+ \" pour les prolongations et \" + str(round(frSaleOpenCount, 2)) + \" pour les rabais.\")"
   ]
  },
  {
   "cell_type": "code",
   "execution_count": 29,
   "metadata": {},
   "outputs": [
    {
     "data": {
      "text/plain": [
       "langue  type_campaign  clicked\n",
       "ENG     Cadeau         0            31509\n",
       "                       1              336\n",
       "        Prolongation   0           212257\n",
       "                       1             7318\n",
       "        Rabais         0           486196\n",
       "                       1             5174\n",
       "FR      Cadeau         0            91550\n",
       "                       1             1293\n",
       "        Prolongation   0           657002\n",
       "                       1            28195\n",
       "        Rabais         0          1284411\n",
       "                       1            17651\n",
       "Name: clicked, dtype: int64"
      ]
     },
     "execution_count": 29,
     "metadata": {},
     "output_type": "execute_result"
    }
   ],
   "source": [
    "#Préparations funnel langue/type step 2\n",
    "mbamFull.groupby(['langue', 'type_campaign'])['clicked'].value_counts() "
   ]
  },
  {
   "cell_type": "code",
   "execution_count": 33,
   "metadata": {},
   "outputs": [
    {
     "name": "stdout",
     "output_type": "stream",
     "text": [
      "Les pourcentages d'ouverture des mails anglais sont : 3.92 pour les cadeaux, 9.53 pour les prolongations et 4.47 pour les rabais.\n",
      "Les pourcentages d'ouverture des mails français sont : 3.87 pour les cadeaux, 9.58 pour les prolongations et 4.49 pour les rabais.\n"
     ]
    }
   ],
   "source": [
    "#funnel langue/type campagne step 2\n",
    "engGiftClickCount=(336/8577)*100\n",
    "engProloClickCount=(7318/76777)*100\n",
    "engSaleClickCount=(5174/115820)*100\n",
    "frGiftClickCount=(1293/33383)*100\n",
    "frProloClickCount=(28195/294314)*100\n",
    "frSaleClickCount=(17651/393049)*100\n",
    "print(\"Les pourcentages d'ouverture des mails anglais sont : \" + str(round(engGiftClickCount, 2))+ \" pour les cadeaux, \"+ str(round(engProloClickCount, 2))+ \" pour les prolongations et \" + str(round(engSaleClickCount, 2)) + \" pour les rabais.\")\n",
    "print(\"Les pourcentages d'ouverture des mails français sont : \" + str(round(frGiftClickCount, 2))+ \" pour les cadeaux, \"+ str(round(frProloClickCount, 2))+ \" pour les prolongations et \" + str(round(frSaleClickCount, 2)) + \" pour les rabais.\")"
   ]
  },
  {
   "cell_type": "code",
   "execution_count": 34,
   "metadata": {},
   "outputs": [
    {
     "data": {
      "text/plain": [
       "langue  type_campaign  converted2\n",
       "ENG     Cadeau         0               31834\n",
       "                       1                  11\n",
       "        Prolongation   0              219173\n",
       "                       1                 402\n",
       "        Rabais         0              490725\n",
       "                       1                 645\n",
       "FR      Cadeau         0               92777\n",
       "                       1                  66\n",
       "        Prolongation   0              683579\n",
       "                       1                1618\n",
       "        Rabais         0             1299384\n",
       "                       1                2678\n",
       "Name: converted2, dtype: int64"
      ]
     },
     "execution_count": 34,
     "metadata": {},
     "output_type": "execute_result"
    }
   ],
   "source": [
    "#Préparations funnel langue/type step 3\n",
    "mbamFull.groupby(['langue', 'type_campaign'])['converted2'].value_counts() "
   ]
  },
  {
   "cell_type": "code",
   "execution_count": 35,
   "metadata": {
    "scrolled": true
   },
   "outputs": [
    {
     "name": "stdout",
     "output_type": "stream",
     "text": [
      "Les pourcentages d'ouverture des mails anglais sont : 3.27 pour les cadeaux, 5.49 pour les prolongations et 12.47 pour les rabais.\n",
      "Les pourcentages d'ouverture des mails français sont : 5.1 pour les cadeaux, 5.74 pour les prolongations et 15.17 pour les rabais.\n"
     ]
    }
   ],
   "source": [
    "#funnel langue/type campagne step 3\n",
    "engGiftConvertCount=(11/336)*100\n",
    "engProloConvertCount=(402/7318)*100\n",
    "engSaleConvertCount=(645/5174)*100\n",
    "frGiftConvertCount=(66/1293)*100\n",
    "frProloConvertCount=(1618/28195)*100\n",
    "frSaleConvertCount=(2678/17651)*100\n",
    "print(\"Les pourcentages d'ouverture des mails anglais sont : \" + str(round(engGiftConvertCount, 2))+ \" pour les cadeaux, \"+ str(round(engProloConvertCount, 2))+ \" pour les prolongations et \" + str(round(engSaleConvertCount, 2)) + \" pour les rabais.\")\n",
    "print(\"Les pourcentages d'ouverture des mails français sont : \" + str(round(frGiftConvertCount, 2))+ \" pour les cadeaux, \"+ str(round(frProloConvertCount, 2))+ \" pour les prolongations et \" + str(round(frSaleConvertCount, 2)) + \" pour les rabais.\")"
   ]
  },
  {
   "cell_type": "markdown",
   "metadata": {},
   "source": [
    "<h1>Observations données en fonctions du point de vente<h1>"
   ]
  },
  {
   "cell_type": "code",
   "execution_count": 42,
   "metadata": {},
   "outputs": [
    {
     "data": {
      "text/plain": [
       "point_de_vente       converted2\n",
       "Accueil              0              3953\n",
       "                     1               153\n",
       "Appels entrants      0             18749\n",
       "                     1              1057\n",
       "Appels sortants      0             13492\n",
       "                     1               812\n",
       "BiOz                 0             54639\n",
       "                     1              3385\n",
       "Billetterie          0                99\n",
       "                     1                 2\n",
       "Courrier             0               297\n",
       "                     1                17\n",
       "Divers/à déterminer  0                17\n",
       "                     1                 1\n",
       "TLMK-FMBAM           0                16\n",
       "                     1                 1\n",
       "Name: converted2, dtype: int64"
      ]
     },
     "execution_count": 42,
     "metadata": {},
     "output_type": "execute_result"
    }
   ],
   "source": [
    "mbamFull.groupby(['point_de_vente'])['converted2'].value_counts()\n",
    "#Pas d'informations interessantes"
   ]
  },
  {
   "cell_type": "code",
   "execution_count": 47,
   "metadata": {},
   "outputs": [
    {
     "data": {
      "text/plain": [
       "point_de_vente       langue  converted2\n",
       "Accueil              ENG     1               35\n",
       "                     FR      1              118\n",
       "Appels entrants      ENG     1              159\n",
       "                     FR      1              897\n",
       "Appels sortants      ENG     1              165\n",
       "                     FR      1              647\n",
       "BiOz                 ENG     1              695\n",
       "                     FR      1             2683\n",
       "Billetterie          FR      1                2\n",
       "Courrier             ENG     1                3\n",
       "                     FR      1               14\n",
       "Divers/à déterminer  FR      1                1\n",
       "TLMK-FMBAM           ENG     1                1\n",
       "Name: converted2, dtype: int64"
      ]
     },
     "execution_count": 47,
     "metadata": {},
     "output_type": "execute_result"
    }
   ],
   "source": [
    "mbamConverted.groupby(['point_de_vente', 'langue'])['converted2'].value_counts()\n",
    "#Pas d'informations interessantes"
   ]
  },
  {
   "cell_type": "markdown",
   "metadata": {},
   "source": [
    "<h1>Arbre de décisions<h1>"
   ]
  },
  {
   "cell_type": "code",
   "execution_count": 10,
   "metadata": {},
   "outputs": [],
   "source": [
    "#Transformer les variables pour les rendre utilisables\n",
    "enc = LabelEncoder()\n",
    "mbamFull['type_campaign'] = enc.fit_transform(mbamFull['type_campaign'])\n",
    "\n",
    "enc = LabelEncoder()\n",
    "mbamFull['statut'] = enc.fit_transform(mbamFull['statut'])\n",
    "\n",
    "#Préciser les dimensions et variable cibles\n",
    "colsCara = ['nbr_open', 'nbr_clicked', 'type_campaign', 'statut']\n",
    "X = mbamFull[colsCara] # Features\n",
    "y = mbamFull.converted2 # Target variable"
   ]
  },
  {
   "cell_type": "code",
   "execution_count": 11,
   "metadata": {},
   "outputs": [],
   "source": [
    "# Séparer dataset en deux\n",
    "X_train, X_test, y_train, y_test = train_test_split(X, y, test_size=0.3, random_state=1) # 70% training and 30% test\n",
    "\n",
    "# Créer un Decision Tree\n",
    "clf = DecisionTreeClassifier()\n",
    "\n",
    "# Entrainer le Decision Tree\n",
    "clf = clf.fit(X_train,y_train)\n",
    "\n",
    "#Prédire la résponse pour le test\n",
    "y_pred = clf.predict(X_test)"
   ]
  },
  {
   "cell_type": "code",
   "execution_count": 12,
   "metadata": {},
   "outputs": [
    {
     "name": "stdout",
     "output_type": "stream",
     "text": [
      "Accuracy: 0.9980515092576815\n"
     ]
    }
   ],
   "source": [
    "# Model Accuracy\n",
    "print(\"Accuracy:\",metrics.accuracy_score(y_test, y_pred))"
   ]
  },
  {
   "cell_type": "code",
   "execution_count": 13,
   "metadata": {
    "scrolled": true
   },
   "outputs": [
    {
     "data": {
      "text/plain": [
       "[Text(145.98987635239567, 209.6742857142857, 'X[1] <= 0.5\\ngini = 0.004\\nsamples = 1985466\\nvalue = [1981696, 3770]'),\n",
       " Text(55.36877897990726, 194.14285714285714, 'X[3] <= 0.5\\ngini = 0.002\\nsamples = 1908921\\nvalue = [1907128, 1793]'),\n",
       " Text(24.320865533230293, 178.61142857142858, 'X[0] <= 1.5\\ngini = 0.007\\nsamples = 426530\\nvalue = [425075, 1455]'),\n",
       " Text(8.279443585780525, 163.07999999999998, 'X[0] <= 0.5\\ngini = 0.008\\nsamples = 331993\\nvalue = [330604, 1389]'),\n",
       " Text(4.1397217928902625, 147.54857142857142, 'X[2] <= 0.5\\ngini = 0.006\\nsamples = 179768\\nvalue = [179246, 522]'),\n",
       " Text(2.0698608964451313, 132.01714285714286, 'gini = 0.0\\nsamples = 15526\\nvalue = [15525, 1]'),\n",
       " Text(6.209582689335393, 132.01714285714286, 'X[2] <= 1.5\\ngini = 0.006\\nsamples = 164242\\nvalue = [163721, 521]'),\n",
       " Text(4.1397217928902625, 116.48571428571428, 'gini = 0.007\\nsamples = 94933\\nvalue = [94583, 350]'),\n",
       " Text(8.279443585780525, 116.48571428571428, 'gini = 0.005\\nsamples = 69309\\nvalue = [69138, 171]'),\n",
       " Text(12.419165378670787, 147.54857142857142, 'X[2] <= 0.5\\ngini = 0.011\\nsamples = 152225\\nvalue = [151358, 867]'),\n",
       " Text(10.349304482225657, 132.01714285714286, 'gini = 0.001\\nsamples = 13517\\nvalue = [13508, 9]'),\n",
       " Text(14.489026275115918, 132.01714285714286, 'X[2] <= 1.5\\ngini = 0.012\\nsamples = 138708\\nvalue = [137850, 858]'),\n",
       " Text(12.419165378670787, 116.48571428571428, 'gini = 0.012\\nsamples = 85075\\nvalue = [84571, 504]'),\n",
       " Text(16.55888717156105, 116.48571428571428, 'gini = 0.013\\nsamples = 53633\\nvalue = [53279, 354]'),\n",
       " Text(40.36228748068006, 163.07999999999998, 'X[2] <= 1.5\\ngini = 0.001\\nsamples = 94537\\nvalue = [94471, 66]'),\n",
       " Text(33.1177743431221, 147.54857142857142, 'X[0] <= 4.5\\ngini = 0.001\\nsamples = 85715\\nvalue = [85681, 34]'),\n",
       " Text(24.838330757341573, 132.01714285714286, 'X[0] <= 2.5\\ngini = 0.001\\nsamples = 60009\\nvalue = [59992, 17]'),\n",
       " Text(20.698608964451314, 116.48571428571428, 'X[2] <= 0.5\\ngini = 0.0\\nsamples = 27851\\nvalue = [27845, 6]'),\n",
       " Text(18.628748068006182, 100.9542857142857, 'gini = 0.0\\nsamples = 204\\nvalue = [204, 0]'),\n",
       " Text(22.768469860896445, 100.9542857142857, 'gini = 0.0\\nsamples = 27647\\nvalue = [27641, 6]'),\n",
       " Text(28.978052550231837, 116.48571428571428, 'X[0] <= 3.5\\ngini = 0.001\\nsamples = 32158\\nvalue = [32147, 11]'),\n",
       " Text(26.908191653786705, 100.9542857142857, 'X[2] <= 0.5\\ngini = 0.001\\nsamples = 18819\\nvalue = [18813, 6]'),\n",
       " Text(24.838330757341573, 85.42285714285714, 'gini = 0.0\\nsamples = 2\\nvalue = [2, 0]'),\n",
       " Text(28.978052550231837, 85.42285714285714, 'gini = 0.001\\nsamples = 18817\\nvalue = [18811, 6]'),\n",
       " Text(31.04791344667697, 100.9542857142857, 'gini = 0.001\\nsamples = 13339\\nvalue = [13334, 5]'),\n",
       " Text(41.39721792890263, 132.01714285714286, 'X[0] <= 7.5\\ngini = 0.001\\nsamples = 25706\\nvalue = [25689, 17]'),\n",
       " Text(37.257496136012364, 116.48571428571428, 'X[0] <= 5.5\\ngini = 0.001\\nsamples = 22172\\nvalue = [22159, 13]'),\n",
       " Text(35.18763523956723, 100.9542857142857, 'gini = 0.001\\nsamples = 9836\\nvalue = [9830, 6]'),\n",
       " Text(39.32735703245749, 100.9542857142857, 'X[0] <= 6.5\\ngini = 0.001\\nsamples = 12336\\nvalue = [12329, 7]'),\n",
       " Text(37.257496136012364, 85.42285714285714, 'gini = 0.001\\nsamples = 7073\\nvalue = [7069, 4]'),\n",
       " Text(41.39721792890263, 85.42285714285714, 'gini = 0.001\\nsamples = 5263\\nvalue = [5260, 3]'),\n",
       " Text(45.53693972179289, 116.48571428571428, 'X[0] <= 8.5\\ngini = 0.002\\nsamples = 3534\\nvalue = [3530, 4]'),\n",
       " Text(43.467078825347755, 100.9542857142857, 'gini = 0.002\\nsamples = 3435\\nvalue = [3431, 4]'),\n",
       " Text(47.60680061823802, 100.9542857142857, 'gini = 0.0\\nsamples = 99\\nvalue = [99, 0]'),\n",
       " Text(47.60680061823802, 147.54857142857142, 'X[0] <= 2.5\\ngini = 0.007\\nsamples = 8822\\nvalue = [8790, 32]'),\n",
       " Text(45.53693972179289, 132.01714285714286, 'gini = 0.007\\nsamples = 8614\\nvalue = [8582, 32]'),\n",
       " Text(49.67666151468315, 132.01714285714286, 'gini = 0.0\\nsamples = 208\\nvalue = [208, 0]'),\n",
       " Text(86.41669242658423, 178.61142857142858, 'X[0] <= 11.5\\ngini = 0.0\\nsamples = 1482391\\nvalue = [1482053, 338]'),\n",
       " Text(75.5499227202473, 163.07999999999998, 'X[0] <= 0.5\\ngini = 0.0\\nsamples = 1482382\\nvalue = [1482045, 337]'),\n",
       " Text(60.02596599690881, 147.54857142857142, 'X[3] <= 1.5\\ngini = 0.0\\nsamples = 1054283\\nvalue = [1054139, 144]'),\n",
       " Text(55.886244204018546, 132.01714285714286, 'X[2] <= 1.5\\ngini = 0.0\\nsamples = 654781\\nvalue = [654658, 123]'),\n",
       " Text(53.81638330757341, 116.48571428571428, 'X[2] <= 0.5\\ngini = 0.0\\nsamples = 175913\\nvalue = [175894, 19]'),\n",
       " Text(51.74652241112828, 100.9542857142857, 'gini = 0.0\\nsamples = 24678\\nvalue = [24678, 0]'),\n",
       " Text(55.886244204018546, 100.9542857142857, 'gini = 0.0\\nsamples = 151235\\nvalue = [151216, 19]'),\n",
       " Text(57.956105100463674, 116.48571428571428, 'gini = 0.0\\nsamples = 478868\\nvalue = [478764, 104]'),\n",
       " Text(64.16568778979907, 132.01714285714286, 'X[2] <= 1.5\\ngini = 0.0\\nsamples = 399502\\nvalue = [399481, 21]'),\n",
       " Text(62.09582689335394, 116.48571428571428, 'X[2] <= 0.5\\ngini = 0.0\\nsamples = 79697\\nvalue = [79695, 2]'),\n",
       " Text(60.02596599690881, 100.9542857142857, 'gini = 0.0\\nsamples = 17373\\nvalue = [17373, 0]'),\n",
       " Text(64.16568778979907, 100.9542857142857, 'gini = 0.0\\nsamples = 62324\\nvalue = [62322, 2]'),\n",
       " Text(66.2355486862442, 116.48571428571428, 'gini = 0.0\\nsamples = 319805\\nvalue = [319786, 19]'),\n",
       " Text(91.07387944358578, 147.54857142857142, 'X[3] <= 1.5\\ngini = 0.001\\nsamples = 428099\\nvalue = [427906, 193]'),\n",
       " Text(74.51499227202473, 132.01714285714286, 'X[2] <= 0.5\\ngini = 0.001\\nsamples = 251791\\nvalue = [251629, 162]'),\n",
       " Text(70.37527047913446, 116.48571428571428, 'X[0] <= 1.5\\ngini = 0.0\\nsamples = 8134\\nvalue = [8132, 2]'),\n",
       " Text(68.30540958268934, 100.9542857142857, 'gini = 0.0\\nsamples = 8041\\nvalue = [8039, 2]'),\n",
       " Text(72.44513137557959, 100.9542857142857, 'gini = 0.0\\nsamples = 93\\nvalue = [93, 0]'),\n",
       " Text(78.65471406491498, 116.48571428571428, 'X[0] <= 4.5\\ngini = 0.001\\nsamples = 243657\\nvalue = [243497, 160]'),\n",
       " Text(76.58485316846986, 100.9542857142857, 'X[2] <= 1.5\\ngini = 0.001\\nsamples = 241026\\nvalue = [240866, 160]'),\n",
       " Text(69.3403400309119, 85.42285714285714, 'X[0] <= 1.5\\ngini = 0.001\\nsamples = 72018\\nvalue = [71975, 43]'),\n",
       " Text(67.27047913446677, 69.89142857142858, 'gini = 0.001\\nsamples = 51093\\nvalue = [51066, 27]'),\n",
       " Text(71.41020092735702, 69.89142857142858, 'X[0] <= 3.5\\ngini = 0.002\\nsamples = 20925\\nvalue = [20909, 16]'),\n",
       " Text(69.3403400309119, 54.359999999999985, 'X[0] <= 2.5\\ngini = 0.002\\nsamples = 19161\\nvalue = [19146, 15]'),\n",
       " Text(67.27047913446677, 38.82857142857142, 'gini = 0.002\\nsamples = 12431\\nvalue = [12421, 10]'),\n",
       " Text(71.41020092735702, 38.82857142857142, 'gini = 0.001\\nsamples = 6730\\nvalue = [6725, 5]'),\n",
       " Text(73.48006182380216, 54.359999999999985, 'gini = 0.001\\nsamples = 1764\\nvalue = [1763, 1]'),\n",
       " Text(83.82936630602782, 85.42285714285714, 'X[0] <= 2.5\\ngini = 0.001\\nsamples = 169008\\nvalue = [168891, 117]'),\n",
       " Text(79.68964451313755, 69.89142857142858, 'X[0] <= 1.5\\ngini = 0.001\\nsamples = 164198\\nvalue = [164083, 115]'),\n",
       " Text(77.61978361669242, 54.359999999999985, 'gini = 0.001\\nsamples = 147924\\nvalue = [147820, 104]'),\n",
       " Text(81.75950540958269, 54.359999999999985, 'gini = 0.001\\nsamples = 16274\\nvalue = [16263, 11]'),\n",
       " Text(87.96908809891808, 69.89142857142858, 'X[0] <= 3.5\\ngini = 0.001\\nsamples = 4810\\nvalue = [4808, 2]'),\n",
       " Text(85.89922720247294, 54.359999999999985, 'gini = 0.001\\nsamples = 4107\\nvalue = [4105, 2]'),\n",
       " Text(90.03894899536321, 54.359999999999985, 'gini = 0.0\\nsamples = 703\\nvalue = [703, 0]'),\n",
       " Text(80.72457496136012, 100.9542857142857, 'gini = 0.0\\nsamples = 2631\\nvalue = [2631, 0]'),\n",
       " Text(107.63276661514682, 132.01714285714286, 'X[2] <= 1.5\\ngini = 0.0\\nsamples = 176308\\nvalue = [176277, 31]'),\n",
       " Text(100.38825347758886, 116.48571428571428, 'X[0] <= 2.5\\ngini = 0.0\\nsamples = 39250\\nvalue = [39246, 4]'),\n",
       " Text(96.2485316846986, 100.9542857142857, 'X[0] <= 1.5\\ngini = 0.0\\nsamples = 35763\\nvalue = [35760, 3]'),\n",
       " Text(94.17867078825347, 85.42285714285714, 'X[2] <= 0.5\\ngini = 0.0\\nsamples = 29009\\nvalue = [29006, 3]'),\n",
       " Text(92.10880989180833, 69.89142857142858, 'gini = 0.0\\nsamples = 6371\\nvalue = [6371, 0]'),\n",
       " Text(96.2485316846986, 69.89142857142858, 'gini = 0.0\\nsamples = 22638\\nvalue = [22635, 3]'),\n",
       " Text(98.31839258114374, 85.42285714285714, 'gini = 0.0\\nsamples = 6754\\nvalue = [6754, 0]'),\n",
       " Text(104.52797527047913, 100.9542857142857, 'X[0] <= 3.5\\ngini = 0.001\\nsamples = 3487\\nvalue = [3486, 1]'),\n",
       " Text(102.458114374034, 85.42285714285714, 'gini = 0.001\\nsamples = 3308\\nvalue = [3307, 1]'),\n",
       " Text(106.59783616692427, 85.42285714285714, 'gini = 0.0\\nsamples = 179\\nvalue = [179, 0]'),\n",
       " Text(114.87727975270478, 116.48571428571428, 'X[0] <= 2.5\\ngini = 0.0\\nsamples = 137058\\nvalue = [137031, 27]'),\n",
       " Text(112.80741885625966, 100.9542857142857, 'X[0] <= 1.5\\ngini = 0.0\\nsamples = 129469\\nvalue = [129442, 27]'),\n",
       " Text(110.73755795981452, 85.42285714285714, 'gini = 0.0\\nsamples = 114890\\nvalue = [114868, 22]'),\n",
       " Text(114.87727975270478, 85.42285714285714, 'gini = 0.001\\nsamples = 14579\\nvalue = [14574, 5]'),\n",
       " Text(116.94714064914992, 100.9542857142857, 'gini = 0.0\\nsamples = 7589\\nvalue = [7589, 0]'),\n",
       " Text(97.28346213292117, 163.07999999999998, 'X[0] <= 12.5\\ngini = 0.198\\nsamples = 9\\nvalue = [8, 1]'),\n",
       " Text(95.21360123647604, 147.54857142857142, 'gini = 0.32\\nsamples = 5\\nvalue = [4, 1]'),\n",
       " Text(99.3533230293663, 147.54857142857142, 'gini = 0.0\\nsamples = 4\\nvalue = [4, 0]'),\n",
       " Text(236.61097372488408, 194.14285714285714, 'X[2] <= 1.5\\ngini = 0.05\\nsamples = 76545\\nvalue = [74568, 1977]'),\n",
       " Text(174.9032457496136, 178.61142857142858, 'X[0] <= 1.5\\ngini = 0.019\\nsamples = 57580\\nvalue = [57042, 538]'),\n",
       " Text(125.22658423493044, 163.07999999999998, 'X[2] <= 0.5\\ngini = 0.035\\nsamples = 16778\\nvalue = [16481, 297]'),\n",
       " Text(119.01700154559505, 147.54857142857142, 'X[3] <= 0.5\\ngini = 0.087\\nsamples = 1156\\nvalue = [1103, 53]'),\n",
       " Text(116.94714064914992, 132.01714285714286, 'gini = 0.115\\nsamples = 569\\nvalue = [534, 35]'),\n",
       " Text(121.08686244204019, 132.01714285714286, 'X[3] <= 1.5\\ngini = 0.059\\nsamples = 587\\nvalue = [569, 18]'),\n",
       " Text(119.01700154559505, 116.48571428571428, 'gini = 0.074\\nsamples = 314\\nvalue = [302, 12]'),\n",
       " Text(123.1567233384853, 116.48571428571428, 'gini = 0.043\\nsamples = 273\\nvalue = [267, 6]'),\n",
       " Text(131.43616692426585, 147.54857142857142, 'X[3] <= 1.5\\ngini = 0.031\\nsamples = 15622\\nvalue = [15378, 244]'),\n",
       " Text(129.3663060278207, 132.01714285714286, 'X[3] <= 0.5\\ngini = 0.033\\nsamples = 14189\\nvalue = [13954, 235]'),\n",
       " Text(127.29644513137558, 116.48571428571428, 'gini = 0.028\\nsamples = 11462\\nvalue = [11297, 165]'),\n",
       " Text(131.43616692426585, 116.48571428571428, 'gini = 0.05\\nsamples = 2727\\nvalue = [2657, 70]'),\n",
       " Text(133.50602782071095, 132.01714285714286, 'gini = 0.012\\nsamples = 1433\\nvalue = [1424, 9]'),\n",
       " Text(224.57990726429674, 163.07999999999998, 'X[0] <= 7.5\\ngini = 0.012\\nsamples = 40802\\nvalue = [40561, 241]'),\n",
       " Text(185.77001545595053, 147.54857142857142, 'X[3] <= 0.5\\ngini = 0.01\\nsamples = 37378\\nvalue = [37190, 188]'),\n",
       " Text(149.02998454404946, 132.01714285714286, 'X[0] <= 5.5\\ngini = 0.009\\nsamples = 33716\\nvalue = [33560, 156]'),\n",
       " Text(135.5758887171561, 116.48571428571428, 'X[0] <= 2.5\\ngini = 0.008\\nsamples = 24200\\nvalue = [24106, 94]'),\n",
       " Text(125.74404945904172, 100.9542857142857, 'X[1] <= 1.5\\ngini = 0.011\\nsamples = 5998\\nvalue = [5964, 34]'),\n",
       " Text(121.60432766615146, 85.42285714285714, 'X[2] <= 0.5\\ngini = 0.011\\nsamples = 5237\\nvalue = [5209, 28]'),\n",
       " Text(119.53446676970633, 69.89142857142858, 'gini = 0.0\\nsamples = 9\\nvalue = [9, 0]'),\n",
       " Text(123.6741885625966, 69.89142857142858, 'gini = 0.011\\nsamples = 5228\\nvalue = [5200, 28]'),\n",
       " Text(129.883771251932, 85.42285714285714, 'X[2] <= 0.5\\ngini = 0.016\\nsamples = 761\\nvalue = [755, 6]'),\n",
       " Text(127.81391035548685, 69.89142857142858, 'gini = 0.0\\nsamples = 1\\nvalue = [1, 0]'),\n",
       " Text(131.95363214837712, 69.89142857142858, 'gini = 0.016\\nsamples = 760\\nvalue = [754, 6]'),\n",
       " Text(145.40772797527046, 100.9542857142857, 'X[1] <= 4.5\\ngini = 0.007\\nsamples = 18202\\nvalue = [18142, 60]'),\n",
       " Text(143.33786707882535, 85.42285714285714, 'X[0] <= 4.5\\ngini = 0.006\\nsamples = 18168\\nvalue = [18109, 59]'),\n",
       " Text(136.0933539412674, 69.89142857142858, 'X[1] <= 1.5\\ngini = 0.007\\nsamples = 12418\\nvalue = [12373, 45]'),\n",
       " Text(131.95363214837712, 54.359999999999985, 'X[0] <= 3.5\\ngini = 0.006\\nsamples = 9507\\nvalue = [9478, 29]'),\n",
       " Text(129.883771251932, 38.82857142857142, 'gini = 0.005\\nsamples = 4927\\nvalue = [4915, 12]'),\n",
       " Text(134.02349304482226, 38.82857142857142, 'gini = 0.007\\nsamples = 4580\\nvalue = [4563, 17]'),\n",
       " Text(140.23307573415764, 54.359999999999985, 'X[1] <= 3.5\\ngini = 0.011\\nsamples = 2911\\nvalue = [2895, 16]'),\n",
       " Text(138.1632148377125, 38.82857142857142, 'X[1] <= 2.5\\ngini = 0.011\\nsamples = 2828\\nvalue = [2812, 16]'),\n",
       " Text(134.02349304482226, 23.29714285714286, 'X[0] <= 3.5\\ngini = 0.01\\nsamples = 2324\\nvalue = [2312, 12]'),\n",
       " Text(131.95363214837712, 7.765714285714267, 'gini = 0.012\\nsamples = 968\\nvalue = [962, 6]'),\n",
       " Text(136.0933539412674, 7.765714285714267, 'gini = 0.009\\nsamples = 1356\\nvalue = [1350, 6]'),\n",
       " Text(142.30293663060277, 23.29714285714286, 'X[0] <= 3.5\\ngini = 0.016\\nsamples = 504\\nvalue = [500, 4]'),\n",
       " Text(140.23307573415764, 7.765714285714267, 'gini = 0.0\\nsamples = 182\\nvalue = [182, 0]'),\n",
       " Text(144.3727975270479, 7.765714285714267, 'gini = 0.025\\nsamples = 322\\nvalue = [318, 4]'),\n",
       " Text(142.30293663060277, 38.82857142857142, 'gini = 0.0\\nsamples = 83\\nvalue = [83, 0]'),\n",
       " Text(150.5823802163833, 69.89142857142858, 'X[1] <= 2.5\\ngini = 0.005\\nsamples = 5750\\nvalue = [5736, 14]'),\n",
       " Text(148.51251931993818, 54.359999999999985, 'X[1] <= 1.5\\ngini = 0.005\\nsamples = 5170\\nvalue = [5156, 14]'),\n",
       " Text(146.44265842349304, 38.82857142857142, 'gini = 0.005\\nsamples = 3741\\nvalue = [3731, 10]'),\n",
       " Text(150.5823802163833, 38.82857142857142, 'gini = 0.006\\nsamples = 1429\\nvalue = [1425, 4]'),\n",
       " Text(152.65224111282842, 54.359999999999985, 'gini = 0.0\\nsamples = 580\\nvalue = [580, 0]'),\n",
       " Text(147.4775888717156, 85.42285714285714, 'gini = 0.057\\nsamples = 34\\nvalue = [33, 1]'),\n",
       " Text(162.4840803709428, 116.48571428571428, 'X[1] <= 1.5\\ngini = 0.013\\nsamples = 9516\\nvalue = [9454, 62]'),\n",
       " Text(156.7919629057187, 100.9542857142857, 'X[0] <= 6.5\\ngini = 0.01\\nsamples = 5443\\nvalue = [5417, 26]'),\n",
       " Text(154.72210200927356, 85.42285714285714, 'gini = 0.007\\nsamples = 3100\\nvalue = [3089, 11]'),\n",
       " Text(158.86182380216383, 85.42285714285714, 'gini = 0.013\\nsamples = 2343\\nvalue = [2328, 15]'),\n",
       " Text(168.17619783616692, 100.9542857142857, 'X[1] <= 3.5\\ngini = 0.018\\nsamples = 4073\\nvalue = [4037, 36]'),\n",
       " Text(163.0015455950541, 85.42285714285714, 'X[1] <= 2.5\\ngini = 0.019\\nsamples = 3519\\nvalue = [3485, 34]'),\n",
       " Text(158.86182380216383, 69.89142857142858, 'X[0] <= 6.5\\ngini = 0.015\\nsamples = 2482\\nvalue = [2463, 19]'),\n",
       " Text(156.7919629057187, 54.359999999999985, 'gini = 0.013\\nsamples = 1325\\nvalue = [1316, 9]'),\n",
       " Text(160.93168469860896, 54.359999999999985, 'gini = 0.017\\nsamples = 1157\\nvalue = [1147, 10]'),\n",
       " Text(167.14126738794434, 69.89142857142858, 'X[0] <= 6.5\\ngini = 0.029\\nsamples = 1037\\nvalue = [1022, 15]'),\n",
       " Text(165.07140649149923, 54.359999999999985, 'gini = 0.039\\nsamples = 502\\nvalue = [492, 10]'),\n",
       " Text(169.21112828438947, 54.359999999999985, 'gini = 0.019\\nsamples = 535\\nvalue = [530, 5]'),\n",
       " Text(173.35085007727974, 85.42285714285714, 'X[0] <= 6.5\\ngini = 0.007\\nsamples = 554\\nvalue = [552, 2]'),\n",
       " Text(171.2809891808346, 69.89142857142858, 'gini = 0.0\\nsamples = 240\\nvalue = [240, 0]'),\n",
       " Text(175.42071097372488, 69.89142857142858, 'X[1] <= 4.5\\ngini = 0.013\\nsamples = 314\\nvalue = [312, 2]'),\n",
       " Text(173.35085007727974, 54.359999999999985, 'gini = 0.019\\nsamples = 207\\nvalue = [205, 2]'),\n",
       " Text(177.49057187017002, 54.359999999999985, 'gini = 0.0\\nsamples = 107\\nvalue = [107, 0]'),\n",
       " Text(222.5100463678516, 132.01714285714286, 'X[1] <= 2.5\\ngini = 0.017\\nsamples = 3662\\nvalue = [3630, 32]'),\n",
       " Text(207.5035548686244, 116.48571428571428, 'X[3] <= 1.5\\ngini = 0.016\\nsamples = 3549\\nvalue = [3520, 29]'),\n",
       " Text(196.11931993817618, 100.9542857142857, 'X[0] <= 3.5\\ngini = 0.018\\nsamples = 2822\\nvalue = [2796, 26]'),\n",
       " Text(187.83987635239566, 85.42285714285714, 'X[1] <= 1.5\\ngini = 0.023\\nsamples = 1695\\nvalue = [1675, 20]'),\n",
       " Text(183.7001545595054, 69.89142857142858, 'X[2] <= 0.5\\ngini = 0.022\\nsamples = 1502\\nvalue = [1485, 17]'),\n",
       " Text(181.63029366306026, 54.359999999999985, 'gini = 0.0\\nsamples = 3\\nvalue = [3, 0]'),\n",
       " Text(185.77001545595053, 54.359999999999985, 'X[0] <= 2.5\\ngini = 0.022\\nsamples = 1499\\nvalue = [1482, 17]'),\n",
       " Text(183.7001545595054, 38.82857142857142, 'gini = 0.023\\nsamples = 864\\nvalue = [854, 10]'),\n",
       " Text(187.83987635239566, 38.82857142857142, 'gini = 0.022\\nsamples = 635\\nvalue = [628, 7]'),\n",
       " Text(191.97959814528593, 69.89142857142858, 'X[0] <= 2.5\\ngini = 0.031\\nsamples = 193\\nvalue = [190, 3]'),\n",
       " Text(189.9097372488408, 54.359999999999985, 'gini = 0.037\\nsamples = 105\\nvalue = [103, 2]'),\n",
       " Text(194.04945904173107, 54.359999999999985, 'gini = 0.022\\nsamples = 88\\nvalue = [87, 1]'),\n",
       " Text(204.39876352395672, 85.42285714285714, 'X[1] <= 1.5\\ngini = 0.011\\nsamples = 1127\\nvalue = [1121, 6]'),\n",
       " Text(200.25904173106645, 69.89142857142858, 'X[0] <= 6.5\\ngini = 0.009\\nsamples = 915\\nvalue = [911, 4]'),\n",
       " Text(198.1891808346213, 54.359999999999985, 'X[0] <= 4.5\\ngini = 0.01\\nsamples = 836\\nvalue = [832, 4]'),\n",
       " Text(196.11931993817618, 38.82857142857142, 'gini = 0.011\\nsamples = 352\\nvalue = [350, 2]'),\n",
       " Text(200.25904173106645, 38.82857142857142, 'X[0] <= 5.5\\ngini = 0.008\\nsamples = 484\\nvalue = [482, 2]'),\n",
       " Text(198.1891808346213, 23.29714285714286, 'gini = 0.008\\nsamples = 261\\nvalue = [260, 1]'),\n",
       " Text(202.32890262751158, 23.29714285714286, 'gini = 0.009\\nsamples = 223\\nvalue = [222, 1]'),\n",
       " Text(202.32890262751158, 54.359999999999985, 'gini = 0.0\\nsamples = 79\\nvalue = [79, 0]'),\n",
       " Text(208.538485316847, 69.89142857142858, 'X[0] <= 4.5\\ngini = 0.019\\nsamples = 212\\nvalue = [210, 2]'),\n",
       " Text(206.46862442040185, 54.359999999999985, 'gini = 0.036\\nsamples = 55\\nvalue = [54, 1]'),\n",
       " Text(210.6083462132921, 54.359999999999985, 'X[0] <= 5.5\\ngini = 0.013\\nsamples = 157\\nvalue = [156, 1]'),\n",
       " Text(208.538485316847, 38.82857142857142, 'gini = 0.0\\nsamples = 62\\nvalue = [62, 0]'),\n",
       " Text(212.67820710973723, 38.82857142857142, 'X[0] <= 6.5\\ngini = 0.021\\nsamples = 95\\nvalue = [94, 1]'),\n",
       " Text(210.6083462132921, 23.29714285714286, 'gini = 0.031\\nsamples = 63\\nvalue = [62, 1]'),\n",
       " Text(214.74806800618236, 23.29714285714286, 'gini = 0.0\\nsamples = 32\\nvalue = [32, 0]'),\n",
       " Text(218.88778979907264, 100.9542857142857, 'X[1] <= 1.5\\ngini = 0.008\\nsamples = 727\\nvalue = [724, 3]'),\n",
       " Text(214.74806800618236, 85.42285714285714, 'X[0] <= 2.5\\ngini = 0.006\\nsamples = 651\\nvalue = [649, 2]'),\n",
       " Text(212.67820710973723, 69.89142857142858, 'gini = 0.0\\nsamples = 404\\nvalue = [404, 0]'),\n",
       " Text(216.8179289026275, 69.89142857142858, 'X[0] <= 3.5\\ngini = 0.016\\nsamples = 247\\nvalue = [245, 2]'),\n",
       " Text(214.74806800618236, 54.359999999999985, 'gini = 0.017\\nsamples = 231\\nvalue = [229, 2]'),\n",
       " Text(218.88778979907264, 54.359999999999985, 'gini = 0.0\\nsamples = 16\\nvalue = [16, 0]'),\n",
       " Text(223.0275115919629, 85.42285714285714, 'X[0] <= 2.5\\ngini = 0.026\\nsamples = 76\\nvalue = [75, 1]'),\n",
       " Text(220.95765069551777, 69.89142857142858, 'gini = 0.043\\nsamples = 46\\nvalue = [45, 1]'),\n",
       " Text(225.097372488408, 69.89142857142858, 'gini = 0.0\\nsamples = 30\\nvalue = [30, 0]'),\n",
       " Text(237.51653786707882, 116.48571428571428, 'X[0] <= 6.5\\ngini = 0.052\\nsamples = 113\\nvalue = [110, 3]'),\n",
       " Text(233.37681607418855, 100.9542857142857, 'X[0] <= 4.5\\ngini = 0.038\\nsamples = 102\\nvalue = [100, 2]'),\n",
       " Text(231.30695517774342, 85.42285714285714, 'X[0] <= 3.5\\ngini = 0.081\\nsamples = 47\\nvalue = [45, 2]'),\n",
       " Text(229.23709428129828, 69.89142857142858, 'gini = 0.0\\nsamples = 25\\nvalue = [25, 0]'),\n",
       " Text(233.37681607418855, 69.89142857142858, 'X[1] <= 3.5\\ngini = 0.165\\nsamples = 22\\nvalue = [20, 2]'),\n",
       " Text(231.30695517774342, 54.359999999999985, 'X[3] <= 1.5\\ngini = 0.188\\nsamples = 19\\nvalue = [17, 2]'),\n",
       " Text(229.23709428129828, 38.82857142857142, 'gini = 0.198\\nsamples = 18\\nvalue = [16, 2]'),\n",
       " Text(233.37681607418855, 38.82857142857142, 'gini = 0.0\\nsamples = 1\\nvalue = [1, 0]'),\n",
       " Text(235.4466769706337, 54.359999999999985, 'gini = 0.0\\nsamples = 3\\nvalue = [3, 0]'),\n",
       " Text(235.4466769706337, 85.42285714285714, 'gini = 0.0\\nsamples = 55\\nvalue = [55, 0]'),\n",
       " Text(241.65625965996907, 100.9542857142857, 'X[1] <= 3.5\\ngini = 0.165\\nsamples = 11\\nvalue = [10, 1]'),\n",
       " Text(239.58639876352393, 85.42285714285714, 'gini = 0.245\\nsamples = 7\\nvalue = [6, 1]'),\n",
       " Text(243.7261205564142, 85.42285714285714, 'gini = 0.0\\nsamples = 4\\nvalue = [4, 0]'),\n",
       " Text(263.389799072643, 147.54857142857142, 'X[1] <= 2.5\\ngini = 0.03\\nsamples = 3424\\nvalue = [3371, 53]'),\n",
       " Text(256.145285935085, 132.01714285714286, 'X[0] <= 8.5\\ngini = 0.024\\nsamples = 2626\\nvalue = [2594, 32]'),\n",
       " Text(254.07542503863985, 116.48571428571428, 'X[1] <= 1.5\\ngini = 0.025\\nsamples = 2555\\nvalue = [2523, 32]'),\n",
       " Text(249.9357032457496, 100.9542857142857, 'X[3] <= 0.5\\ngini = 0.024\\nsamples = 1674\\nvalue = [1654, 20]'),\n",
       " Text(247.86584234930447, 85.42285714285714, 'gini = 0.023\\nsamples = 1636\\nvalue = [1617, 19]'),\n",
       " Text(252.00556414219474, 85.42285714285714, 'gini = 0.051\\nsamples = 38\\nvalue = [37, 1]'),\n",
       " Text(258.21514683153015, 100.9542857142857, 'X[3] <= 0.5\\ngini = 0.027\\nsamples = 881\\nvalue = [869, 12]'),\n",
       " Text(256.145285935085, 85.42285714285714, 'gini = 0.028\\nsamples = 858\\nvalue = [846, 12]'),\n",
       " Text(260.28500772797526, 85.42285714285714, 'gini = 0.0\\nsamples = 23\\nvalue = [23, 0]'),\n",
       " Text(258.21514683153015, 116.48571428571428, 'gini = 0.0\\nsamples = 71\\nvalue = [71, 0]'),\n",
       " Text(270.6343122102009, 132.01714285714286, 'X[1] <= 5.5\\ngini = 0.051\\nsamples = 798\\nvalue = [777, 21]'),\n",
       " Text(268.5644513137558, 116.48571428571428, 'X[0] <= 8.5\\ngini = 0.055\\nsamples = 745\\nvalue = [724, 21]'),\n",
       " Text(266.49459041731063, 100.9542857142857, 'X[1] <= 4.5\\ngini = 0.056\\nsamples = 726\\nvalue = [705, 21]'),\n",
       " Text(264.4247295208655, 85.42285714285714, 'X[3] <= 0.5\\ngini = 0.053\\nsamples = 621\\nvalue = [604, 17]'),\n",
       " Text(262.35486862442036, 69.89142857142858, 'X[1] <= 3.5\\ngini = 0.054\\nsamples = 611\\nvalue = [594, 17]'),\n",
       " Text(260.28500772797526, 54.359999999999985, 'gini = 0.055\\nsamples = 423\\nvalue = [411, 12]'),\n",
       " Text(264.4247295208655, 54.359999999999985, 'gini = 0.052\\nsamples = 188\\nvalue = [183, 5]'),\n",
       " Text(266.49459041731063, 69.89142857142858, 'gini = 0.0\\nsamples = 10\\nvalue = [10, 0]'),\n",
       " Text(268.5644513137558, 85.42285714285714, 'gini = 0.073\\nsamples = 105\\nvalue = [101, 4]'),\n",
       " Text(270.6343122102009, 100.9542857142857, 'gini = 0.0\\nsamples = 19\\nvalue = [19, 0]'),\n",
       " Text(272.70417310664607, 116.48571428571428, 'gini = 0.0\\nsamples = 53\\nvalue = [53, 0]'),\n",
       " Text(298.3187017001545, 178.61142857142858, 'X[3] <= 0.5\\ngini = 0.14\\nsamples = 18965\\nvalue = [17526, 1439]'),\n",
       " Text(280.98361669242655, 163.07999999999998, 'X[1] <= 1.5\\ngini = 0.301\\nsamples = 4885\\nvalue = [3983, 902]'),\n",
       " Text(276.8438948995363, 147.54857142857142, 'X[0] <= 1.5\\ngini = 0.296\\nsamples = 4801\\nvalue = [3933, 868]'),\n",
       " Text(274.7740340030912, 132.01714285714286, 'gini = 0.282\\nsamples = 3757\\nvalue = [3120, 637]'),\n",
       " Text(278.91375579598144, 132.01714285714286, 'X[0] <= 3.5\\ngini = 0.345\\nsamples = 1044\\nvalue = [813, 231]'),\n",
       " Text(276.8438948995363, 116.48571428571428, 'X[0] <= 2.5\\ngini = 0.343\\nsamples = 1033\\nvalue = [806, 227]'),\n",
       " Text(274.7740340030912, 100.9542857142857, 'gini = 0.346\\nsamples = 1022\\nvalue = [795, 227]'),\n",
       " Text(278.91375579598144, 100.9542857142857, 'gini = 0.0\\nsamples = 11\\nvalue = [11, 0]'),\n",
       " Text(280.98361669242655, 116.48571428571428, 'gini = 0.463\\nsamples = 11\\nvalue = [7, 4]'),\n",
       " Text(285.1233384853168, 147.54857142857142, 'X[0] <= 2.5\\ngini = 0.482\\nsamples = 84\\nvalue = [50, 34]'),\n",
       " Text(283.0534775888717, 132.01714285714286, 'gini = 0.485\\nsamples = 80\\nvalue = [47, 33]'),\n",
       " Text(287.193199381762, 132.01714285714286, 'X[0] <= 3.5\\ngini = 0.375\\nsamples = 4\\nvalue = [3, 1]'),\n",
       " Text(285.1233384853168, 116.48571428571428, 'gini = 0.0\\nsamples = 2\\nvalue = [2, 0]'),\n",
       " Text(289.2630602782071, 116.48571428571428, 'gini = 0.5\\nsamples = 2\\nvalue = [1, 1]'),\n",
       " Text(315.65378670788255, 163.07999999999998, 'X[3] <= 1.5\\ngini = 0.073\\nsamples = 14080\\nvalue = [13543, 537]'),\n",
       " Text(304.78701700154556, 147.54857142857142, 'X[1] <= 1.5\\ngini = 0.102\\nsamples = 7304\\nvalue = [6910, 394]'),\n",
       " Text(297.54250386398763, 132.01714285714286, 'X[0] <= 2.5\\ngini = 0.099\\nsamples = 7161\\nvalue = [6786, 375]'),\n",
       " Text(293.40278207109736, 116.48571428571428, 'X[0] <= 1.5\\ngini = 0.102\\nsamples = 6859\\nvalue = [6488, 371]'),\n",
       " Text(291.3329211746522, 100.9542857142857, 'gini = 0.1\\nsamples = 5908\\nvalue = [5595, 313]'),\n",
       " Text(295.47264296754247, 100.9542857142857, 'gini = 0.115\\nsamples = 951\\nvalue = [893, 58]'),\n",
       " Text(301.6822256568779, 116.48571428571428, 'X[0] <= 3.5\\ngini = 0.026\\nsamples = 302\\nvalue = [298, 4]'),\n",
       " Text(299.61236476043274, 100.9542857142857, 'gini = 0.016\\nsamples = 256\\nvalue = [254, 2]'),\n",
       " Text(303.752086553323, 100.9542857142857, 'X[0] <= 4.5\\ngini = 0.083\\nsamples = 46\\nvalue = [44, 2]'),\n",
       " Text(301.6822256568779, 85.42285714285714, 'gini = 0.089\\nsamples = 43\\nvalue = [41, 2]'),\n",
       " Text(305.8219474497681, 85.42285714285714, 'gini = 0.0\\nsamples = 3\\nvalue = [3, 0]'),\n",
       " Text(312.03153013910355, 132.01714285714286, 'X[0] <= 2.5\\ngini = 0.23\\nsamples = 143\\nvalue = [124, 19]'),\n",
       " Text(309.9616692426584, 116.48571428571428, 'gini = 0.285\\nsamples = 93\\nvalue = [77, 16]'),\n",
       " Text(314.10139103554866, 116.48571428571428, 'X[1] <= 2.5\\ngini = 0.113\\nsamples = 50\\nvalue = [47, 3]'),\n",
       " Text(312.03153013910355, 100.9542857142857, 'X[0] <= 3.5\\ngini = 0.124\\nsamples = 45\\nvalue = [42, 3]'),\n",
       " Text(309.9616692426584, 85.42285714285714, 'gini = 0.105\\nsamples = 36\\nvalue = [34, 2]'),\n",
       " Text(314.10139103554866, 85.42285714285714, 'X[0] <= 5.0\\ngini = 0.198\\nsamples = 9\\nvalue = [8, 1]'),\n",
       " Text(312.03153013910355, 69.89142857142858, 'gini = 0.219\\nsamples = 8\\nvalue = [7, 1]'),\n",
       " Text(316.1712519319938, 69.89142857142858, 'gini = 0.0\\nsamples = 1\\nvalue = [1, 0]'),\n",
       " Text(316.1712519319938, 100.9542857142857, 'gini = 0.0\\nsamples = 5\\nvalue = [5, 0]'),\n",
       " Text(326.52055641421947, 147.54857142857142, 'X[1] <= 2.5\\ngini = 0.041\\nsamples = 6776\\nvalue = [6633, 143]'),\n",
       " Text(322.3808346213292, 132.01714285714286, 'X[0] <= 1.5\\ngini = 0.041\\nsamples = 6765\\nvalue = [6624, 141]'),\n",
       " Text(320.31097372488404, 116.48571428571428, 'gini = 0.047\\nsamples = 5072\\nvalue = [4949, 123]'),\n",
       " Text(324.4506955177743, 116.48571428571428, 'X[1] <= 1.5\\ngini = 0.021\\nsamples = 1693\\nvalue = [1675, 18]'),\n",
       " Text(320.31097372488404, 100.9542857142857, 'X[0] <= 2.5\\ngini = 0.014\\nsamples = 1519\\nvalue = [1508, 11]'),\n",
       " Text(318.24111282843893, 85.42285714285714, 'gini = 0.02\\nsamples = 898\\nvalue = [889, 9]'),\n",
       " Text(322.3808346213292, 85.42285714285714, 'X[0] <= 3.5\\ngini = 0.006\\nsamples = 621\\nvalue = [619, 2]'),\n",
       " Text(320.31097372488404, 69.89142857142858, 'gini = 0.01\\nsamples = 411\\nvalue = [409, 2]'),\n",
       " Text(324.4506955177743, 69.89142857142858, 'gini = 0.0\\nsamples = 210\\nvalue = [210, 0]'),\n",
       " Text(328.5904173106646, 100.9542857142857, 'X[0] <= 2.5\\ngini = 0.077\\nsamples = 174\\nvalue = [167, 7]'),\n",
       " Text(326.52055641421947, 85.42285714285714, 'gini = 0.043\\nsamples = 91\\nvalue = [89, 2]'),\n",
       " Text(330.66027820710974, 85.42285714285714, 'X[0] <= 3.5\\ngini = 0.113\\nsamples = 83\\nvalue = [78, 5]'),\n",
       " Text(328.5904173106646, 69.89142857142858, 'gini = 0.117\\nsamples = 48\\nvalue = [45, 3]'),\n",
       " Text(332.73013910355485, 69.89142857142858, 'gini = 0.108\\nsamples = 35\\nvalue = [33, 2]'),\n",
       " Text(330.66027820710974, 132.01714285714286, 'X[0] <= 3.5\\ngini = 0.298\\nsamples = 11\\nvalue = [9, 2]'),\n",
       " Text(328.5904173106646, 116.48571428571428, 'gini = 0.408\\nsamples = 7\\nvalue = [5, 2]'),\n",
       " Text(332.73013910355485, 116.48571428571428, 'gini = 0.0\\nsamples = 4\\nvalue = [4, 0]')]"
      ]
     },
     "execution_count": 13,
     "metadata": {},
     "output_type": "execute_result"
    },
    {
     "data": {
      "image/png": "[encoded data removed]",
      "text/plain": [
       "<Figure size 432x288 with 1 Axes>"
      ]
     },
     "metadata": {
      "needs_background": "light"
     },
     "output_type": "display_data"
    }
   ],
   "source": [
    "tree.plot_tree(clf)"
   ]
  },
  {
   "cell_type": "code",
   "execution_count": null,
   "metadata": {},
   "outputs": [],
   "source": [
    "#Obtenir l'arbre de décision selon nos envies et l'extraire\n",
    "from six import StringIO\n",
    "from IPython.display import Image  \n",
    "from sklearn.tree import export_graphviz\n",
    "!pip install pydotplus\n",
    "import pydotplus\n",
    "\n",
    "# export_graphviz(clf, out_file=dot_data,  \n",
    "#                 filled=True, rounded=True,\n",
    "#                 special_characters=True,feature_names = feature_cols,class_names=['0','1'])\n",
    "\n",
    "# dot_data = StringIO()\n",
    "# dot_data = tree.export_graphviz(clf, out_file=None) \n",
    "# graph = graphviz.Source(dot_data) \n",
    "# graph = pydotplus.graph_from_dot_data(dot_data.getvalue())  \n",
    "# print(graph)\n",
    "# graph.render()\n",
    "\n",
    "dot_data = StringIO()\n",
    "export_graphviz(clf, out_file=dot_data,  \n",
    "                filled=True, rounded=True,\n",
    "                special_characters=True, feature_names = colsCara, class_names=['0','1'])\n",
    "graph = pydotplus.graph_from_dot_data(dot_data.getvalue())\n",
    "graph.write_png('data.png')\n",
    "Image(graph.create_png())"
   ]
  }
 ],
 "metadata": {
  "kernelspec": {
   "display_name": "Python 3",
   "language": "python",
   "name": "python3"
  },
  "language_info": {
   "codemirror_mode": {
    "name": "ipython",
    "version": 3
   },
   "file_extension": ".py",
   "mimetype": "text/x-python",
   "name": "python",
   "nbconvert_exporter": "python",
   "pygments_lexer": "ipython3",
   "version": "3.8.5"
  }
 },
 "nbformat": 4,
 "nbformat_minor": 4
}
